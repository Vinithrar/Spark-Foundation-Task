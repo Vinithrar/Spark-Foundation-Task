{
  "nbformat": 4,
  "nbformat_minor": 0,
  "metadata": {
    "colab": {
      "name": "TASK 1.ipynb",
      "provenance": []
    },
    "kernelspec": {
      "name": "python3",
      "display_name": "Python 3"
    },
    "language_info": {
      "name": "python"
    }
  },
  "cells": [
    {
      "cell_type": "code",
      "metadata": {
        "id": "ea06lfJFvHKV"
      },
      "source": [
        "import pandas as pd\n",
        "import numpy as np  \n",
        "import matplotlib.pyplot as plt\n",
        "import seaborn as sns \n",
        "%matplotlib inline"
      ],
      "execution_count": 89,
      "outputs": []
    },
    {
      "cell_type": "code",
      "metadata": {
        "colab": {
          "base_uri": "https://localhost:8080/"
        },
        "id": "_jeKXYNnwAMp",
        "outputId": "09cea059-fe4d-42d3-8275-366e4838b07d"
      },
      "source": [
        "data = pd.read_csv(\"http://bit.ly/w-data\")\n",
        "print (data)"
      ],
      "execution_count": 90,
      "outputs": [
        {
          "output_type": "stream",
          "text": [
            "    Hours  Scores\n",
            "0     2.5      21\n",
            "1     5.1      47\n",
            "2     3.2      27\n",
            "3     8.5      75\n",
            "4     3.5      30\n",
            "5     1.5      20\n",
            "6     9.2      88\n",
            "7     5.5      60\n",
            "8     8.3      81\n",
            "9     2.7      25\n",
            "10    7.7      85\n",
            "11    5.9      62\n",
            "12    4.5      41\n",
            "13    3.3      42\n",
            "14    1.1      17\n",
            "15    8.9      95\n",
            "16    2.5      30\n",
            "17    1.9      24\n",
            "18    6.1      67\n",
            "19    7.4      69\n",
            "20    2.7      30\n",
            "21    4.8      54\n",
            "22    3.8      35\n",
            "23    6.9      76\n",
            "24    7.8      86\n"
          ],
          "name": "stdout"
        }
      ]
    },
    {
      "cell_type": "code",
      "metadata": {
        "colab": {
          "base_uri": "https://localhost:8080/",
          "height": 295
        },
        "id": "9KwLEetWxI52",
        "outputId": "14561265-7874-48af-d4c0-dfabc619f7ec"
      },
      "source": [
        "data.plot(x='Hours', y='Scores', style='*')  \n",
        "plt.title('Hours vs Scores')  \n",
        "plt.xlabel('Hours Studied')  \n",
        "plt.ylabel('Score Percentage')  \n",
        "plt.show()"
      ],
      "execution_count": 91,
      "outputs": [
        {
          "output_type": "display_data",
          "data": {
            "image/png": "[encoded data removed]",
            "text/plain": [
              "<Figure size 432x288 with 1 Axes>"
            ]
          },
          "metadata": {
            "tags": [],
            "needs_background": "light"
          }
        }
      ]
    },
    {
      "cell_type": "code",
      "metadata": {
        "id": "xM-1ILGXx3Hi"
      },
      "source": [
        "X = data.iloc[:, :-1].values  \n",
        "y = data.iloc[:, 1].values  "
      ],
      "execution_count": 92,
      "outputs": []
    },
    {
      "cell_type": "code",
      "metadata": {
        "id": "NFC2Y-NFy1hr"
      },
      "source": [
        "from sklearn.model_selection import train_test_split\n",
        "X_train,X_test,y_train,y_test=train_test_split(X,y,test_size=0.25,random_state=10)"
      ],
      "execution_count": 94,
      "outputs": []
    },
    {
      "cell_type": "code",
      "metadata": {
        "colab": {
          "base_uri": "https://localhost:8080/"
        },
        "id": "m_IrP0wL0IRo",
        "outputId": "0ec44dad-280b-4bb7-e0f4-906ea93723bb"
      },
      "source": [
        "from sklearn.linear_model import LinearRegression  \n",
        "regressor = LinearRegression()  \n",
        "regressor.fit(X_train, y_train) \n"
      ],
      "execution_count": 95,
      "outputs": [
        {
          "output_type": "execute_result",
          "data": {
            "text/plain": [
              "LinearRegression(copy_X=True, fit_intercept=True, n_jobs=None, normalize=False)"
            ]
          },
          "metadata": {
            "tags": []
          },
          "execution_count": 95
        }
      ]
    },
    {
      "cell_type": "code",
      "metadata": {
        "colab": {
          "base_uri": "https://localhost:8080/",
          "height": 295
        },
        "id": "YwnQ5S0VzGdz",
        "outputId": "a676c351-15af-4028-c979-55ae492b157e"
      },
      "source": [
        "grp = sns.regplot(x='Hours', y='Scores', data=data, color='black')\n",
        "plt.title(\"Predicting the Score Percentage\")\n",
        "plt.show()"
      ],
      "execution_count": 96,
      "outputs": [
        {
          "output_type": "display_data",
          "data": {
            "image/png": "[encoded data removed]",
            "text/plain": [
              "<Figure size 432x288 with 1 Axes>"
            ]
          },
          "metadata": {
            "tags": [],
            "needs_background": "light"
          }
        }
      ]
    },
    {
      "cell_type": "code",
      "metadata": {
        "colab": {
          "base_uri": "https://localhost:8080/"
        },
        "id": "e_WesSw912C4",
        "outputId": "6d25069f-e98e-4a90-8827-ca36948a96b0"
      },
      "source": [
        "print(X_test)\n",
        "y_pred = regressor.predict(X_test) "
      ],
      "execution_count": 97,
      "outputs": [
        {
          "output_type": "stream",
          "text": [
            "[[1.5]\n",
            " [5.1]\n",
            " [3.3]\n",
            " [3.2]\n",
            " [4.5]\n",
            " [7.4]\n",
            " [1.1]]\n"
          ],
          "name": "stdout"
        }
      ]
    },
    {
      "cell_type": "code",
      "metadata": {
        "colab": {
          "base_uri": "https://localhost:8080/",
          "height": 263
        },
        "id": "0k4ru23D2U0u",
        "outputId": "93bfb6b9-0107-4647-9349-0c139efdd552"
      },
      "source": [
        "df = pd.DataFrame({'Actual': y_test, 'Predicted': y_pred})  \n",
        "df "
      ],
      "execution_count": 98,
      "outputs": [
        {
          "output_type": "execute_result",
          "data": {
            "text/html": [
              "<div>\n",
              "<style scoped>\n",
              "    .dataframe tbody tr th:only-of-type {\n",
              "        vertical-align: middle;\n",
              "    }\n",
              "\n",
              "    .dataframe tbody tr th {\n",
              "        vertical-align: top;\n",
              "    }\n",
              "\n",
              "    .dataframe thead th {\n",
              "        text-align: right;\n",
              "    }\n",
              "</style>\n",
              "<table border=\"1\" class=\"dataframe\">\n",
              "  <thead>\n",
              "    <tr style=\"text-align: right;\">\n",
              "      <th></th>\n",
              "      <th>Actual</th>\n",
              "      <th>Predicted</th>\n",
              "    </tr>\n",
              "  </thead>\n",
              "  <tbody>\n",
              "    <tr>\n",
              "      <th>0</th>\n",
              "      <td>20</td>\n",
              "      <td>16.506807</td>\n",
              "    </tr>\n",
              "    <tr>\n",
              "      <th>1</th>\n",
              "      <td>47</td>\n",
              "      <td>52.750005</td>\n",
              "    </tr>\n",
              "    <tr>\n",
              "      <th>2</th>\n",
              "      <td>42</td>\n",
              "      <td>34.628406</td>\n",
              "    </tr>\n",
              "    <tr>\n",
              "      <th>3</th>\n",
              "      <td>27</td>\n",
              "      <td>33.621650</td>\n",
              "    </tr>\n",
              "    <tr>\n",
              "      <th>4</th>\n",
              "      <td>41</td>\n",
              "      <td>46.709472</td>\n",
              "    </tr>\n",
              "    <tr>\n",
              "      <th>5</th>\n",
              "      <td>69</td>\n",
              "      <td>75.905382</td>\n",
              "    </tr>\n",
              "    <tr>\n",
              "      <th>6</th>\n",
              "      <td>17</td>\n",
              "      <td>12.479785</td>\n",
              "    </tr>\n",
              "  </tbody>\n",
              "</table>\n",
              "</div>"
            ],
            "text/plain": [
              "   Actual  Predicted\n",
              "0      20  16.506807\n",
              "1      47  52.750005\n",
              "2      42  34.628406\n",
              "3      27  33.621650\n",
              "4      41  46.709472\n",
              "5      69  75.905382\n",
              "6      17  12.479785"
            ]
          },
          "metadata": {
            "tags": []
          },
          "execution_count": 98
        }
      ]
    },
    {
      "cell_type": "code",
      "metadata": {
        "colab": {
          "base_uri": "https://localhost:8080/"
        },
        "id": "_ep_QKPo5a2X",
        "outputId": "a94bbe29-6ee9-4a06-a231-4a6ffa123222"
      },
      "source": [
        "data.Hours.values.reshape(1, -1)"
      ],
      "execution_count": 99,
      "outputs": [
        {
          "output_type": "execute_result",
          "data": {
            "text/plain": [
              "array([[2.5, 5.1, 3.2, 8.5, 3.5, 1.5, 9.2, 5.5, 8.3, 2.7, 7.7, 5.9, 4.5,\n",
              "        3.3, 1.1, 8.9, 2.5, 1.9, 6.1, 7.4, 2.7, 4.8, 3.8, 6.9, 7.8]])"
            ]
          },
          "metadata": {
            "tags": []
          },
          "execution_count": 99
        }
      ]
    },
    {
      "cell_type": "code",
      "metadata": {
        "colab": {
          "base_uri": "https://localhost:8080/"
        },
        "id": "uCuMt-Rr5szs",
        "outputId": "c819b186-3998-4a14-edef-8dde4291ca97"
      },
      "source": [
        "hours = ([[8.88]])\n",
        "own_pred = regressor.predict(hours)\n",
        "print(\"No of Hours = {}\".format(hours))\n",
        "print(\"Predicted Score = {}\".format(own_pred[0]))"
      ],
      "execution_count": 100,
      "outputs": [
        {
          "output_type": "stream",
          "text": [
            "No of Hours = [[8.88]]\n",
            "Predicted Score = 90.80536353044582\n"
          ],
          "name": "stdout"
        }
      ]
    },
    {
      "cell_type": "code",
      "metadata": {
        "colab": {
          "base_uri": "https://localhost:8080/"
        },
        "id": "WqPeoCT37FMp",
        "outputId": "1dcc2395-69dd-4f88-c13c-e8b0610d0180"
      },
      "source": [
        "from sklearn import metrics  \n",
        "print('Mean Absolute Error:', \n",
        "metrics.mean_absolute_error(y_test, y_pred)) "
      ],
      "execution_count": 101,
      "outputs": [
        {
          "output_type": "stream",
          "text": [
            "Mean Absolute Error: 5.767358910941684\n"
          ],
          "name": "stdout"
        }
      ]
    }
  ]
}